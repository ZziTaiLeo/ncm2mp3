{
 "cells": [
  {
   "cell_type": "code",
   "execution_count": null,
   "metadata": {},
   "outputs": [],
   "source": [
    "\n",
    "from  tkinter  import ttk,filedialog\n",
    "\n",
    "import tkinter as tk\n",
    "#利用ffmpeg  处理输入音频的信息\n",
    "\n",
    "import os \n",
    "import ffmpeg \n",
    "source = 'H:/hengda_linux/workplace/PYCHARM/ncm2mp3/source/玫瑰少年.flac'\n",
    "input_stream = ffmpeg.input(source)\n",
    "\n",
    "basename = os.path.basename(source)\n",
    "target_file = './'\n",
    "\n",
    "target_file = source.replace('.flac','.mp3')\n",
    "output_stream = ffmpeg.output(input_stream, target_file, ab='320k',map_metadata=0,id3v2_version=3)\n",
    "ffmpeg.run(output_stream)\n",
    "\n",
    "#打印输入input_steam\n"
   ]
  },
  {
   "cell_type": "code",
   "execution_count": 16,
   "metadata": {},
   "outputs": [
    {
     "name": "stdout",
     "output_type": "stream",
     "text": [
      "The file exists!\n",
      "You do not have read permission for the file.\n"
     ]
    }
   ],
   "source": [
    "\n",
    "\n",
    "import os \n",
    "from multiprocessing import Pool\n",
    "from tqdm import tqdm\n",
    "from gui import Application\n",
    "source_path = './source/'\n",
    "target_path = './target/'\n",
    "\n",
    "cpu_count = os.cpu_count()\n",
    "\n",
    "app = Application()\n",
    "\n",
    "with Pool(processes=cpu_count) as pool:\n",
    "    result = list(tqdm(pool.imap(app.toMp4, source_name), total=source_len))\n"
   ]
  }
 ],
 "metadata": {
  "kernelspec": {
   "display_name": "hd",
   "language": "python",
   "name": "python3"
  },
  "language_info": {
   "codemirror_mode": {
    "name": "ipython",
    "version": 3
   },
   "file_extension": ".py",
   "mimetype": "text/x-python",
   "name": "python",
   "nbconvert_exporter": "python",
   "pygments_lexer": "ipython3",
   "version": "3.9.17"
  }
 },
 "nbformat": 4,
 "nbformat_minor": 2
}
